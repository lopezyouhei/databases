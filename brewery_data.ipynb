{
 "cells": [
  {
   "cell_type": "code",
   "execution_count": 8,
   "metadata": {},
   "outputs": [],
   "source": [
    "import opendatasets as od\n",
    "from pyspark.sql import SparkSession\n",
    "from pyspark.sql import functions as F"
   ]
  },
  {
   "cell_type": "markdown",
   "metadata": {},
   "source": [
    "# 1. Open the data in PySpark"
   ]
  },
  {
   "cell_type": "code",
   "execution_count": 2,
   "metadata": {},
   "outputs": [
    {
     "name": "stdout",
     "output_type": "stream",
     "text": [
      "Skipping, found downloaded files in \".\\brewery-operations-and-market-analysis-dataset\" (use force=True to force download)\n"
     ]
    }
   ],
   "source": [
    "# download dataset from kaggle, API key required!\n",
    "od.download('https://www.kaggle.com/datasets/ankurnapa/brewery-operations-and-market-analysis-dataset/data?select=brewery_data_complete_extended.csv')"
   ]
  },
  {
   "cell_type": "code",
   "execution_count": 3,
   "metadata": {},
   "outputs": [
    {
     "name": "stdout",
     "output_type": "stream",
     "text": [
      "+--------+-------------------+----------+-------+---------------+-----------------+------------------+------------------+------------------+-----------------+----------+-----+----------------+---------------+------------------+-----------------+--------------------+-------------------+------------------------+----------------------------+\n",
      "|Batch_ID|          Brew_Date|Beer_Style|    SKU|       Location|Fermentation_Time|       Temperature|          pH_Level|           Gravity|  Alcohol_Content|Bitterness|Color|Ingredient_Ratio|Volume_Produced|       Total_Sales|    Quality_Score|Brewhouse_Efficiency|Loss_During_Brewing|Loss_During_Fermentation|Loss_During_Bottling_Kegging|\n",
      "+--------+-------------------+----------+-------+---------------+-----------------+------------------+------------------+------------------+-----------------+----------+-----+----------------+---------------+------------------+-----------------+--------------------+-------------------+------------------------+----------------------------+\n",
      "| 7870796|2020-01-01 00:00:19|Wheat Beer|   Kegs|     Whitefield|               16|24.204250857069873|5.2898454476095615|1.0395041267301979|5.370842159553436|        20|    5|     1:0.32:0.16|           4666|2664.7593448382822| 8.57701633109399|   89.19588216376087| 4.1049876591878345|      3.2354851724654683|           4.663204448186049|\n",
      "| 9810411|2020-01-01 00:00:31|      Sour|   Kegs|     Whitefield|               13|18.086762947259544| 5.275643382756193|1.0598189516987164|5.096053082797625|        36|   14|     1:0.39:0.24|            832| 9758.801062471319|7.420540752553908|    72.4809153900275| 2.6765280953921122|      4.2461292104108574|            2.04435836917023|\n",
      "| 2623342|2020-01-01 00:00:40|Wheat Beer|   Kegs|    Malleswaram|               12|15.539332669116469|4.7780156232459765|1.0374757095487201|4.824737120959184|        30|   10|     1:0.35:0.16|           2115|11721.087016274963|8.451364886803127|   86.32214396020584|  3.299893625514981|       3.109440467362847|          3.0338798378762806|\n",
      "| 8114651|2020-01-01 00:01:37|       Ale|   Kegs|    Rajajinagar|               17| 16.41848910394318| 5.345260585546188|1.0524314251694946|5.509243080797997|        48|   18|     1:0.35:0.15|           3173|12050.177463190277|9.671859404043175|   83.09494037181545|  2.136055116262562|       4.634254174098425|          1.4898890677148424|\n",
      "| 4579587|2020-01-01 00:01:43|     Stout|   Cans|   Marathahalli|               18|19.144907654338517|  4.86185374113861|1.0542961149482333|5.133624684263243|        57|   13|     1:0.46:0.11|           4449|5515.0774647529615|7.895333676172065|   88.62583302052388|  4.491723843594972|      2.1833886016455497|          2.9906302188791485|\n",
      "| 8715759|2020-01-01 00:01:48|       Ale|   Kegs|     Whitefield|               10|17.424614393375766| 5.291786621908058| 1.064662042682204|4.859171021614226|        45|    9|     1:0.23:0.15|           3752| 6278.389850288936| 8.47381192497374|    87.8128259096688| 3.2051089361121203|      1.4783386754434935|           3.051920588503346|\n",
      "| 6441292|2020-01-01 00:01:49|     Lager|  Pints|Electronic City|               16|15.629810875902074|5.3328812410204325|1.0466885050091976|4.710402522822796|        44|    8|     1:0.34:0.16|            593|14362.653665879505|6.958182685507612|   85.73496269913532|  3.955331969978375|      1.6229792325278112|           1.566344313315546|\n",
      "| 8843420|2020-01-01 00:01:51|Wheat Beer|   Cans|    Indiranagar|               13|21.605469689190052| 4.507213419450749|1.0415809900303394| 4.83702482975061|        38|    9|     1:0.45:0.26|           4949|1082.3549117830858|6.295632960105362|   73.43876487534912| 1.7047005571803084|      1.7187729863809476|          1.0336558740315214|\n",
      "| 5713096|2020-01-01 00:02:16|     Stout|Bottles|Electronic City|               18|20.183530075814367| 5.224481542948347|1.0764413828584096|5.133596661986578|        25|   15|     1:0.39:0.19|           2451| 7392.644809330611|9.660185081725519|   83.26770612274336|  4.765479207857815|      2.3862457622492697|           4.453829514148623|\n",
      "| 8178852|2020-01-01 00:02:32|     Stout|   Cans|Electronic City|               11|17.237974924919577| 4.911261716318917|1.0478298509908957|5.709899253603638|        48|   10|     1:0.43:0.17|           4305|7648.2830929155325|9.348719159247096|   73.60380329779937|    3.8425385336431|       4.284796713900535|          1.3128481660547955|\n",
      "| 5607233|2020-01-01 00:02:36|   Pilsner|   Cans|Electronic City|               14| 15.70400745122817| 4.809827440806769|1.0503845798714408|5.460061910956435|        26|   15|     1:0.27:0.16|           4959|10634.431632453308|7.652974518762244|   72.27786196194037|  3.441262632538294|      1.7852158857735971|          3.5126424667473595|\n",
      "| 3699698|2020-01-01 00:02:55|       IPA|  Pints|Electronic City|               19|17.597701886470652| 5.312024579912181|1.0330450180092225|4.661066385691683|        47|    6|     1:0.44:0.25|           4894|11852.097970324789|8.549107361500187|   85.26361099177572|  4.887950102005913|       3.866492435878597|          1.5003344287722644|\n",
      "| 4437940|2020-01-01 00:03:04|      Sour|   Cans|    Rajajinagar|               14|15.415524753322972| 5.422808722785356| 1.046025948108783|4.516939869630938|        34|   16|     1:0.30:0.24|           1479|11651.628703689214| 8.31540186347126|   78.08985644274479| 1.8483634854320958|       3.631755659150649|          1.2493121589384297|\n",
      "| 6167789|2020-01-01 00:03:09|       Ale|  Pints|   Marathahalli|               17| 20.37375557905417| 4.768508394883426|1.0342821835465446|5.319366431771322|        32|    6|     1:0.24:0.14|           4486|1665.1818593163712| 9.95303003672959|   89.49078286225225| 1.8399526245700035|      1.6965192352750456|          1.7844538202986184|\n",
      "| 9487317|2020-01-01 00:03:12|    Porter|   Kegs|    Koramangala|               17|24.678870169235424| 4.876144319732823|1.0611629801967593| 4.97381389280548|        34|   15|     1:0.50:0.28|           1475|  17473.8825235854|8.046295862216768|    76.7494513645113| 2.5362894638036884|       2.690711502501459|           2.003923221811584|\n",
      "| 6902208|2020-01-01 00:03:17|   Pilsner|   Cans|      Yelahanka|               10| 16.24653222310524| 5.241133152001924|1.0382992499477062|4.535179745113896|        37|   17|     1:0.47:0.12|           4484| 2557.880022111579|9.730922046183753|   75.90153323969544| 2.6913090983304477|       2.207272035834151|           2.378649007434061|\n",
      "| 1816588|2020-01-01 00:03:22|      Sour|Bottles|   Marathahalli|               11|22.903972245938505| 5.473563790227288|1.0373730025224546| 5.12916808476057|        44|   10|     1:0.31:0.21|           3377|13527.919120822819|9.167866793350633|   75.82965914771283| 2.2840375445913597|       1.442312900085096|          2.1676876404222445|\n",
      "| 4910947|2020-01-01 00:03:26|    Porter|   Kegs|    Malleswaram|               15| 24.88502400214049|  4.68579566157026|1.0660628711841977|5.575448433172943|        36|    6|     1:0.32:0.28|           1459|6824.2626567713705|8.423886929535172|   77.73591737998633|  2.208027941681999|      1.0169256442264922|           2.459324212482839|\n",
      "| 3420320|2020-01-01 00:03:31|   Pilsner|  Pints|    Rajajinagar|               15|17.785713321899884| 5.318024913782187|1.0687167841553329|5.406625556398892|        23|    5|     1:0.23:0.16|           3809| 5925.879914754564|9.181668960937605|   88.37087230231108|  2.583703605893361|      3.1816797935563645|           2.301820283939322|\n",
      "| 2821972|2020-01-01 00:03:33|     Stout|Bottles|    Malleswaram|               16| 18.53433164072429| 4.771957308753228| 1.038209083799137|5.402760414393702|        40|   13|     1:0.34:0.14|           2787|6972.8499301042675|8.428914872818165|   83.91379885432615|  4.765304130970385|      2.2215552308103295|          3.9952000238196375|\n",
      "+--------+-------------------+----------+-------+---------------+-----------------+------------------+------------------+------------------+-----------------+----------+-----+----------------+---------------+------------------+-----------------+--------------------+-------------------+------------------------+----------------------------+\n",
      "only showing top 20 rows\n",
      "\n"
     ]
    }
   ],
   "source": [
    "data_path = \"brewery-operations-and-market-analysis-dataset/brewery_data_complete_extended.csv\"\n",
    "\n",
    "# create a spark session\n",
    "spark = SparkSession.builder.appName(\"Brewery Data\").getOrCreate()\n",
    "# enable arrow-based columnar data transfers\n",
    "spark.conf.set(\"spark.sql.execution.arrow.enabled\", \"true\")\n",
    "\n",
    "# read kaggle csv file into spark dataframe\n",
    "# header=True takes the first row as our header\n",
    "# inferSchema=True let's spark assign variable types to our data e.g. if \n",
    "# our data contains integers spark would normally treat it as a string, but \n",
    "# with inferSchema set to True it will treat it as an integer and so on\n",
    "df = spark.read.csv(data_path, header=True, inferSchema=True)\n",
    "df.show()\n"
   ]
  },
  {
   "cell_type": "markdown",
   "metadata": {},
   "source": [
    "# 2. Explore the data"
   ]
  },
  {
   "cell_type": "code",
   "execution_count": 4,
   "metadata": {},
   "outputs": [
    {
     "name": "stdout",
     "output_type": "stream",
     "text": [
      "root\n",
      " |-- Batch_ID: integer (nullable = true)\n",
      " |-- Brew_Date: timestamp (nullable = true)\n",
      " |-- Beer_Style: string (nullable = true)\n",
      " |-- SKU: string (nullable = true)\n",
      " |-- Location: string (nullable = true)\n",
      " |-- Fermentation_Time: integer (nullable = true)\n",
      " |-- Temperature: double (nullable = true)\n",
      " |-- pH_Level: double (nullable = true)\n",
      " |-- Gravity: double (nullable = true)\n",
      " |-- Alcohol_Content: double (nullable = true)\n",
      " |-- Bitterness: integer (nullable = true)\n",
      " |-- Color: integer (nullable = true)\n",
      " |-- Ingredient_Ratio: string (nullable = true)\n",
      " |-- Volume_Produced: integer (nullable = true)\n",
      " |-- Total_Sales: double (nullable = true)\n",
      " |-- Quality_Score: double (nullable = true)\n",
      " |-- Brewhouse_Efficiency: double (nullable = true)\n",
      " |-- Loss_During_Brewing: double (nullable = true)\n",
      " |-- Loss_During_Fermentation: double (nullable = true)\n",
      " |-- Loss_During_Bottling_Kegging: double (nullable = true)\n",
      "\n"
     ]
    }
   ],
   "source": [
    "# let's look at our column names and type\n",
    "# effect of setting inferSchema=True\n",
    "df.printSchema()"
   ]
  },
  {
   "cell_type": "markdown",
   "metadata": {},
   "source": [
    "We need to understand some more details about our dataset, like why is color an integer?? &#128512; (Clearly I'm not a beer expert...)\n",
    "\n",
    "- **Batch_ID (int)**: \n",
    "\n",
    "    Brewery-defined ID for a beer batch\n",
    "- **Brew_Date (timestamp)**: \n",
    "\n",
    "    Date and time of brewing given as YYYY-MM-DD hh:mm:ss\n",
    "- **Beer_Style (str)**: \n",
    "\n",
    "    The type of beer (e.g., Wheat Beer, Ale, Stout, etc.)\n",
    "- **SKU (str)**: \n",
    "\n",
    "    Type of packaging (stock keeping unit) (e.g. Kegs, Cans, etc.)\n",
    "- **Location (str)**: \n",
    "\n",
    "    Name of an Indian city where the beer is produced.\n",
    "- **Fermentation_Time (int)**: \n",
    "\n",
    "    Fermentation time measured in days.\n",
    "- **Temperature (double)**: \n",
    "\n",
    "    Average temperature (°C) maintained in the brewing process. There are a surprisingly large number of decimal units (I will cut this off to the first decimal place).\n",
    "- **pH_Level (double)**: \n",
    "\n",
    "    Indicates the acidity or alkalinity of the beer. There are a surprisingly large number of decimal units (I will cut this off to the first decimal place).\n",
    "- **Gravity (double)**: \n",
    "\n",
    "    Method of estimating potential alcohol content by taking the ratio of beer density over water density (unitless). There are a surprisingly large number of decimal units (I will cut this off to the third decimal place).\n",
    "- **Alcohol_Content (double)**: \n",
    "\n",
    "    Percentage of alcogol by volume in the beer. There are a surprisingly large number of decimal units (I will cut this off to the first decimal place).\n",
    "- **Bitterness (int)**: \n",
    "\n",
    "    Bitterness of the beer based on IBU (International Bitterness Units).\n",
    "- **Color (int)**: \n",
    "\n",
    "    Color of the beer based on SRM (Standard Reference Method)\n",
    "- **Ingredient_Ratio (str)**: \n",
    "\n",
    "    Ratio of ingredients used in the beer (no additional information provided).\n",
    "- **Volume_Produced (integer)**: \n",
    "\n",
    "    The liters of beer produced in the batch.\n",
    "- **Total_Sales (double)**: \n",
    "\n",
    "    The total sales generated from the batch (I suppose in Rupees, but will have look into that). There are a surprisingly large number of decimal units (I will cut this off to the second decimal place).\n",
    "- **Quality_Score (double)**: \n",
    "\n",
    "    Overall quality score assigned to the beer batch from a scale of 0-10. There are a surprisingly large number of decimal units (I will cut this off to the first decimal place).\n",
    "- **Brewhouse_Efficiency (double)**: \n",
    "\n",
    "    Efficiency of the brewing process (%). (Measure of how much sugar was extracted over the potential sugar extraction amount.) There are a surprisingly large number of decimal units (I will cut this off to the second decimal place).\n",
    "- **Loss_During_Brewing (double)**: \n",
    "\n",
    "    Percentage of volume loss during the brewing process. There are a surprisingly large number of decimal units (I will cut this off to the second decimal place).\n",
    "- **Loss_During_Fermentation (double)**: \n",
    "\n",
    "    Percentage of volume loss during the fermentation process. There are a surprisingly large number of decimal units (I will cut this off to the second decimal place).\n",
    "- **Loss_During_Bottling_Kegging (double)**: \n",
    "\n",
    "    Percentage of volume loss during the bottling or kegging process. There are a surprisingly large number of decimal units (I will cut this off to the second decimal place)."
   ]
  },
  {
   "cell_type": "code",
   "execution_count": 5,
   "metadata": {},
   "outputs": [
    {
     "name": "stdout",
     "output_type": "stream",
     "text": [
      "The dataset consists of 20 columns and 10,000,000 rows (batches).\n"
     ]
    }
   ],
   "source": [
    "# number of columns and data points (rows)\n",
    "num_columns = len(df.columns)\n",
    "num_rows = df.count()\n",
    "\n",
    "print(f\"The dataset consists of {num_columns} columns and {num_rows:,} rows (batches).\")\n"
   ]
  },
  {
   "cell_type": "code",
   "execution_count": 6,
   "metadata": {},
   "outputs": [
    {
     "name": "stdout",
     "output_type": "stream",
     "text": [
      "+-------+------------------+----------+--------+---------------+-----------------+------------------+-------------------+--------------------+-------------------+------------------+-----------------+----------------+-----------------+------------------+------------------+--------------------+-------------------+------------------------+----------------------------+\n",
      "|summary|          Batch_ID|Beer_Style|     SKU|       Location|Fermentation_Time|       Temperature|           pH_Level|             Gravity|    Alcohol_Content|        Bitterness|            Color|Ingredient_Ratio|  Volume_Produced|       Total_Sales|     Quality_Score|Brewhouse_Efficiency|Loss_During_Brewing|Loss_During_Fermentation|Loss_During_Bottling_Kegging|\n",
      "+-------+------------------+----------+--------+---------------+-----------------+------------------+-------------------+--------------------+-------------------+------------------+-----------------+----------------+-----------------+------------------+------------------+--------------------+-------------------+------------------------+----------------------------+\n",
      "|  count|          10000000|  10000000|10000000|       10000000|         10000000|          10000000|           10000000|            10000000|           10000000|          10000000|         10000000|        10000000|         10000000|          10000000|          10000000|            10000000|           10000000|                10000000|                    10000000|\n",
      "|   mean|         4999999.5|      NULL|    NULL|           NULL|        14.500898|19.999898511018827|  4.999940543893489|  1.0550028700788692|  5.249709006579308|        39.4961996|       11.9993459|            NULL|     2749.0309594|10497.785343940232| 7.999825148192516|   80.00091934182497|  3.000081497042524|       3.000002413212497|          3.0001587106749747|\n",
      "| stddev|2886751.4902856858|      NULL|    NULL|           NULL|2.872006096518228|2.8870297120328576|0.28863762894103545|0.014434649211836703|0.43296144791729213|11.545572488490313|4.321170228005893|            NULL|1299.078133259011| 5485.995544804044|1.1546793056214646|  5.7749295785811645| 1.1547483756083143|      1.1548266863212513|          1.1547186092997934|\n",
      "|    min|                 0|       Ale| Bottles|Electronic City|               10|15.000001163771435|  4.500000005935603|  1.0300000027891478|  4.500000235642255|                20|                5|     1:0.20:0.10|              500|1000.0009630942443| 6.000000644037316|   70.00000702282782|  1.000000399567285|      1.0000008690556794|          1.0000002095815321|\n",
      "|    max|           9999999|Wheat Beer|   Pints|      Yelahanka|               19|24.999998289887966|  5.499999818305633|  1.0799999980323736|  5.999999932506248|                59|               19|     1:0.50:0.30|             4999| 19999.99964105241| 9.999998860537378|   89.99999982126904|  4.999999841589812|       4.999999816405875|           4.999999721589095|\n",
      "+-------+------------------+----------+--------+---------------+-----------------+------------------+-------------------+--------------------+-------------------+------------------+-----------------+----------------+-----------------+------------------+------------------+--------------------+-------------------+------------------------+----------------------------+\n",
      "\n"
     ]
    }
   ],
   "source": [
    "# let's see if we have missing data (e.g. NaN)\n",
    "# .describe() will go through the data, and if the count is not matching to the \n",
    "# number of rows, we know that there is data missing.\n",
    "df.describe().show()"
   ]
  },
  {
   "cell_type": "markdown",
   "metadata": {},
   "source": [
    "Interestingly, .describe() attempts at giving us simple statistics on string columns, but manages to ignore the timestamp column (Brew_Date). Let's have a look at the Brew_Date to make sure that we don't overlook missing data there."
   ]
  },
  {
   "cell_type": "code",
   "execution_count": 11,
   "metadata": {},
   "outputs": [
    {
     "name": "stdout",
     "output_type": "stream",
     "text": [
      "There are 0 missing data points in the Brew Date column\n"
     ]
    }
   ],
   "source": [
    "brew_date = df.columns[1]\n",
    "null_count = df.filter(F.col(brew_date).isNull()).count()\n",
    "print(f\"There are {null_count} missing data points in the Brew Date column\")"
   ]
  },
  {
   "cell_type": "code",
   "execution_count": null,
   "metadata": {},
   "outputs": [],
   "source": []
  }
 ],
 "metadata": {
  "kernelspec": {
   "display_name": "databases",
   "language": "python",
   "name": "python3"
  },
  "language_info": {
   "codemirror_mode": {
    "name": "ipython",
    "version": 3
   },
   "file_extension": ".py",
   "mimetype": "text/x-python",
   "name": "python",
   "nbconvert_exporter": "python",
   "pygments_lexer": "ipython3",
   "version": "3.10.7"
  }
 },
 "nbformat": 4,
 "nbformat_minor": 2
}
